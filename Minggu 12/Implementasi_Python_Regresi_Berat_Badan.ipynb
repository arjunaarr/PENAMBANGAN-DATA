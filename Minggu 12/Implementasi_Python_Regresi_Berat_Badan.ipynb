{
  "cells": [
    {
      "cell_type": "markdown",
      "metadata": {
        "id": "P3yfi3iPqDL_"
      },
      "source": [
        "Nama : Arjuna Nur Arrafi\n",
        "\n",
        "NIM : A11.2022.14174\n",
        "\n",
        "Kelompok: A11.4508\n",
        "\n",
        "Implementasi Python Regresi Berat Badan"
      ]
    },
    {
      "cell_type": "code",
      "execution_count": 1,
      "metadata": {
        "id": "-1--EoJ0oxfh"
      },
      "outputs": [],
      "source": [
        "# Import Library yang diperlukan Scipy\n",
        "from scipy import stats"
      ]
    },
    {
      "cell_type": "code",
      "execution_count": 2,
      "metadata": {
        "id": "T-LWesbMo5Tq"
      },
      "outputs": [],
      "source": [
        "# x = data tinggi badan (cm)\n",
        "x = [151,174, 138, 186, 128, 136, 179, 163, 152,131]"
      ]
    },
    {
      "cell_type": "code",
      "execution_count": 3,
      "metadata": {
        "id": "3q7aTiPEpRk9"
      },
      "outputs": [],
      "source": [
        "# y = data berat badan (kg)\n",
        "y = [63,81,56,91,47,57,76,72,62,48]"
      ]
    },
    {
      "cell_type": "code",
      "execution_count": 4,
      "metadata": {
        "id": "lzq5Oa8KpRno"
      },
      "outputs": [],
      "source": [
        "# Perform linear regression\n",
        "slope, intercept, r, p, std_err = stats.linregress(x,y)"
      ]
    },
    {
      "cell_type": "code",
      "execution_count": 5,
      "metadata": {
        "id": "Jvdwo6uopRqG"
      },
      "outputs": [],
      "source": [
        "# Create a function for linear regression\n",
        "def myfunc(x):\n",
        "    return slope * x + intercept"
      ]
    },
    {
      "cell_type": "code",
      "execution_count": 6,
      "metadata": {
        "id": "eTFHNP0ypRsv"
      },
      "outputs": [],
      "source": [
        "# Calculate the weight based on height 151 cm\n",
        "berat_badan = myfunc(151)"
      ]
    },
    {
      "cell_type": "code",
      "execution_count": 7,
      "metadata": {
        "colab": {
          "base_uri": "https://localhost:8080/"
        },
        "id": "vc6E7XmEpRvP",
        "outputId": "0457dc14-fae8-4c55-fed2-710efa03c3b8"
      },
      "outputs": [
        {
          "name": "stdout",
          "output_type": "stream",
          "text": [
            "63.41109074243812\n"
          ]
        }
      ],
      "source": [
        "# Print the calculated weight\n",
        "print(berat_badan)"
      ]
    }
  ],
  "metadata": {
    "colab": {
      "provenance": []
    },
    "kernelspec": {
      "display_name": "Python 3",
      "name": "python3"
    },
    "language_info": {
      "name": "python"
    }
  },
  "nbformat": 4,
  "nbformat_minor": 0
}
