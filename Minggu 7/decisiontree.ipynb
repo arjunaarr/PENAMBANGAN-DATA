{
 "cells": [
  {
   "cell_type": "markdown",
   "metadata": {
    "id": "82D1pob-4tsQ"
   },
   "source": [
    "- Nama  : Arjuna Nur Arrafi\n",
    "- NIM   : A11.2022.14174\n",
    "- Kelas : A11.4508\n",
    "- Penambangan Data\n",
    "- Praktek Latihan Tahapan Klasifikasi Decission Tree Pada File CSV"
   ]
  },
  {
   "cell_type": "code",
   "execution_count": 21,
   "metadata": {
    "id": "tSzlAcWd2u6y"
   },
   "outputs": [],
   "source": [
    "from sklearn.tree import DecisionTreeClassifier\n",
    "from sklearn import datasets\n",
    "import matplotlib.pyplot as plt"
   ]
  },
  {
   "cell_type": "code",
   "execution_count": 22,
   "metadata": {
    "id": "PcaSDRud2z8Y"
   },
   "outputs": [],
   "source": [
    "iris = datasets.load_iris()\n",
    "features = iris['data']\n",
    "target = iris['target']"
   ]
  },
  {
   "cell_type": "code",
   "execution_count": 23,
   "metadata": {
    "id": "Vgvv0rfD2z_g"
   },
   "outputs": [],
   "source": [
    "decisiontree = DecisionTreeClassifier(random_state = 0,\n",
    "    max_depth = None, min_samples_split = 2,\n",
    "    min_samples_leaf = 1, min_weight_fraction_leaf = 0,\n",
    "    max_leaf_nodes = None, min_impurity_decrease = 0)"
   ]
  },
  {
   "cell_type": "code",
   "execution_count": 24,
   "metadata": {
    "id": "QqxPvuul20Cn"
   },
   "outputs": [],
   "source": [
    "model = decisiontree.fit(features, target)"
   ]
  },
  {
   "cell_type": "code",
   "execution_count": 26,
   "metadata": {
    "colab": {
     "base_uri": "https://localhost:8080/"
    },
    "id": "9w1YJHJc20IQ",
    "outputId": "f22c0b80-0a64-4f4b-a85d-f5ccab55cf90"
   },
   "outputs": [
    {
     "data": {
      "text/plain": [
       "True"
      ]
     },
     "execution_count": 26,
     "metadata": {},
     "output_type": "execute_result"
    }
   ],
   "source": [
    "iris = datasets.load_iris()\n",
    "features = iris['data']\n",
    "target = iris['target']"
   ]
  },
  {
   "cell_type": "code",
   "execution_count": 27,
   "metadata": {
    "id": "WwEYHR_C20K6"
   },
   "outputs": [],
   "source": [
    "#membagi dataset, 40 baris data untuk training\n",
    "#dan 20 baris data untuk testing\n",
    "dataTraining = np.concatenate((irisDataset[0:40, :], irisDataset[50:90, :]), axis = 0)\n",
    "dataTesting = np.concatenate((irisDataset[40:50, :], irisDataset[90:100, :]), axis = 0)\n",
    "\n",
    "#memecah dataset ke input dan label\n",
    "inputTraining = dataTraining[:, 0:4]\n",
    "inputTesting = dataTesting[:, 0:4]\n",
    "labelTraining = dataTraining[:, 4]\n",
    "labelTesting = dataTesting[:, 4]"
   ]
  },
  {
   "cell_type": "code",
   "execution_count": 28,
   "metadata": {
    "colab": {
     "base_uri": "https://localhost:8080/"
    },
    "id": "ai3BqcNL20Nc",
    "outputId": "d69e92d7-c463-4362-b196-5d5332a808ba"
   },
   "outputs": [
    {
     "name": "stdout",
     "output_type": "stream",
     "text": [
      "label sebenarnya  [0. 0. 0. 0. 0. 0. 0. 0. 0. 0. 1. 1. 1. 1. 1. 1. 1. 1. 1. 1.]\n",
      "hasil prediksi:  [0. 0. 0. 0. 0. 0. 0. 0. 0. 0. 1. 1. 1. 1. 1. 1. 1. 1. 1. 1.]\n",
      "prediksi benar:  20  data\n",
      "prediksi salah:  0  data\n",
      "akurasi:  100.0 %\n"
     ]
    }
   ],
   "source": [
    "#mendefinisikan decision tree classifier\n",
    "model = tree.DecisionTreeClassifier()\n",
    "\n",
    "#mentraining model\n",
    "model = model.fit(inputTraining, labelTraining)\n",
    "\n",
    "#memprediksi input data testing\n",
    "hasilPrediksi = model.predict(inputTesting)\n",
    "print(\"label sebenarnya \", labelTesting)\n",
    "print(\"hasil prediksi: \", hasilPrediksi)\n",
    "\n",
    "#menghitung akurasi\n",
    "prediksiBenar = (hasilPrediksi == labelTesting).sum()\n",
    "prediksiSalah = (hasilPrediksi != labelTesting).sum()\n",
    "print(\"prediksi benar: \", prediksiBenar, \" data\")\n",
    "print(\"prediksi salah: \", prediksiSalah, \" data\")\n",
    "print(\"akurasi: \", prediksiBenar/(prediksiBenar + prediksiSalah) * 100, \"%\")"
   ]
  },
  {
   "cell_type": "code",
   "execution_count": 29,
   "metadata": {
    "id": "diux7kfs20QR"
   },
   "outputs": [],
   "source": [
    "# Melakukan pembagian dataset, 40 baris untuk dilakukan training\n",
    "# dan 20 baris data untuk testing\n",
    "dataTraining = np.concatenate((irisDataset[0:40,:],\n",
    "                               irisDataset[40:90,:]), axis = 0)\n",
    "dataTesting = np.concatenate((irisDataset[40:50,:],\n",
    "                              irisDataset[90:100,:]), axis = 0)\n",
    "\n",
    "#Memecah dataset ke input dan label\n",
    "inputTraining = dataTraining[:,0:4]\n",
    "inputTesting = dataTesting[:,0:4]\n",
    "labelTraining = dataTraining[:,4]\n",
    "labelTesting = dataTesting[:,4]"
   ]
  },
  {
   "cell_type": "code",
   "execution_count": 30,
   "metadata": {
    "colab": {
     "base_uri": "https://localhost:8080/"
    },
    "id": "QJopr3dt20Tv",
    "outputId": "3b13770c-a2d6-4f70-80b6-582ae2a8dd40"
   },
   "outputs": [
    {
     "name": "stdout",
     "output_type": "stream",
     "text": [
      "Label Sebenarnya  [0. 0. 0. 0. 0. 0. 0. 0. 0. 0. 1. 1. 1. 1. 1. 1. 1. 1. 1. 1.]\n",
      "Label Prediksi :  [0. 0. 0. 0. 0. 0. 0. 0. 0. 0. 1. 1. 1. 1. 1. 1. 1. 1. 1. 1.]\n",
      "Prediksi Benar :  20  data\n",
      "Prediksi Salah :  0  data\n",
      "Akurasi :  100.0 %\n"
     ]
    }
   ],
   "source": [
    "model = tree.DecisionTreeClassifier()\n",
    "\n",
    "#Melakukan Training Model\n",
    "model = model.fit(inputTraining, labelTraining)\n",
    "\n",
    "#Meprediksikan input data testing\n",
    "hasilPrediksi = model.predict(inputTesting)\n",
    "print(\"Label Sebenarnya \", labelTesting)\n",
    "print(\"Label Prediksi : \", hasilPrediksi)\n",
    "\n",
    "#Menghitung Akurasinya\n",
    "prediksiBenar = (hasilPrediksi == labelTesting).sum()\n",
    "prediksiSalah = (hasilPrediksi != labelTesting).sum()\n",
    "print(\"Prediksi Benar : \", prediksiBenar, \" data\")\n",
    "print(\"Prediksi Salah : \", prediksiSalah, \" data\")\n",
    "print(\"Akurasi : \", prediksiBenar/(prediksiBenar+prediksiSalah) * 100, \"%\")"
   ]
  }
 ],
 "metadata": {
  "colab": {
   "provenance": []
  },
  "kernelspec": {
   "display_name": "Python 3",
   "name": "python3"
  },
  "language_info": {
   "name": "python"
  }
 },
 "nbformat": 4,
 "nbformat_minor": 0
}
